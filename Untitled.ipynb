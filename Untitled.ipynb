{
  "metadata": {
    "kernelspec": {
      "name": "python",
      "display_name": "Python (Pyodide)",
      "language": "python"
    },
    "language_info": {
      "codemirror_mode": {
        "name": "python",
        "version": 3
      },
      "file_extension": ".py",
      "mimetype": "text/x-python",
      "name": "python",
      "nbconvert_exporter": "python",
      "pygments_lexer": "ipython3",
      "version": "3.8"
    }
  },
  "nbformat_minor": 4,
  "nbformat": 4,
  "cells": [
    {
      "cell_type": "code",
      "source": "import pandas as pd\nimport matplotlib.pyplot as plt\nimport seaborn as sns\n\n# Загрузка данных из JSON\ndata = pd.read_json('deviation.json')\n\n# Отображение первых строк таблицы\ndata.head()\n\n# Построение графика Floor Mean vs Ceiling Mean\nplt.figure(figsize=(18, 10))\nsns.lineplot(data=data, x='name', y='floor_mean', label='floor_mean', marker='o')\nsns.lineplot(data=data, x='name', y='ceiling_mean', label='ceiling_mean', marker='o')\nplt.title('Floor Mean vs Ceiling Mean')\nplt.xticks(rotation=45, ha='right', fontsize=4)\nplt.ylabel('Deviation (degrees)')\nplt.legend()\nplt.tight_layout()\nplt.show()\n\n",
      "metadata": {
        "trusted": true
      },
      "outputs": [],
      "execution_count": null
    }
  ]
}